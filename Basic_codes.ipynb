{
  "nbformat": 4,
  "nbformat_minor": 0,
  "metadata": {
    "colab": {
      "provenance": [],
      "authorship_tag": "ABX9TyP6SD9tKafAp8V2+iex1uFN",
      "include_colab_link": true
    },
    "kernelspec": {
      "name": "python3",
      "display_name": "Python 3"
    },
    "language_info": {
      "name": "python"
    }
  },
  "cells": [
    {
      "cell_type": "markdown",
      "metadata": {
        "id": "view-in-github",
        "colab_type": "text"
      },
      "source": [
        "<a href=\"https://colab.research.google.com/github/2001akash/PYTHON-CODES/blob/main/Basic_codes.ipynb\" target=\"_parent\"><img src=\"https://colab.research.google.com/assets/colab-badge.svg\" alt=\"Open In Colab\"/></a>"
      ]
    },
    {
      "cell_type": "code",
      "metadata": {
        "colab": {
          "base_uri": "https://localhost:8080/"
        },
        "id": "r19x2RWbLR4v",
        "outputId": "3d3d6b95-46fa-4a72-cef2-fadd05980c92"
      },
      "source": [
        "principal =1000\n",
        "rate=0.6\n",
        "term=5\n",
        "totalinterest =0\n",
        "for x in range(1,5):\n",
        "  print(\"Principal\" ,principal)\n",
        "interest=principal*rate\n",
        "print (\"interest\" ,interest)\n",
        "principal=principal+interest\n",
        "totalinterest = totalinterest+interest\n",
        "print (\"totalinterest\",totalinterest)\n",
        "print (\"total principal\",principal) "
      ],
      "execution_count": 12,
      "outputs": [
        {
          "output_type": "stream",
          "name": "stdout",
          "text": [
            "Principal 1000\n",
            "Principal 1000\n",
            "Principal 1000\n",
            "Principal 1000\n",
            "interest 600.0\n",
            "totalinterest 600.0\n",
            "total principal 1600.0\n"
          ]
        }
      ]
    },
    {
      "cell_type": "code",
      "metadata": {
        "colab": {
          "base_uri": "https://localhost:8080/"
        },
        "id": "tu2Laf_ENE_7",
        "outputId": "8f5e016a-ba55-4228-c283-f0cb795a62c3"
      },
      "source": [
        "principal = 10000\n",
        "rate = .06\n",
        "term = 5\n",
        "totalintrest = 0\n",
        "for x in range(5):\n",
        " print (\"principal\" ,principal)\n",
        "intrest = principal*rate\n",
        "print(\"Intrest \",intrest)\n",
        "principal = principal+intrest\n",
        "totalintrest = totalintrest + intrest\n",
        "print (\"Total Intrest\",totalintrest)\n",
        "print (\"Principal \",principal)"
      ],
      "execution_count": 8,
      "outputs": [
        {
          "output_type": "stream",
          "name": "stdout",
          "text": [
            "principal 10000\n",
            "principal 10000\n",
            "principal 10000\n",
            "principal 10000\n",
            "principal 10000\n",
            "Intrest  600.0\n",
            "Total Intrest 600.0\n",
            "Principal  10600.0\n"
          ]
        }
      ]
    },
    {
      "cell_type": "code",
      "metadata": {
        "colab": {
          "base_uri": "https://localhost:8080/"
        },
        "id": "WPjCZPHuOjbo",
        "outputId": "8112eab3-000f-4aef-d831-c0b35fcb195a"
      },
      "source": [
        " \n",
        "n = int(input(\"Enter number to print table::\"))\n",
        "for i in range(1,11):\n",
        "  print (n,\"*\",i,\"=\",n*i)"
      ],
      "execution_count": 7,
      "outputs": [
        {
          "output_type": "stream",
          "name": "stdout",
          "text": [
            "Enter number to print table::5\n",
            "5 * 1 = 5\n",
            "5 * 2 = 10\n",
            "5 * 3 = 15\n",
            "5 * 4 = 20\n",
            "5 * 5 = 25\n",
            "5 * 6 = 30\n",
            "5 * 7 = 35\n",
            "5 * 8 = 40\n",
            "5 * 9 = 45\n",
            "5 * 10 = 50\n"
          ]
        }
      ]
    },
    {
      "cell_type": "code",
      "metadata": {
        "colab": {
          "base_uri": "https://localhost:8080/"
        },
        "id": "rXxBmnk5PLx8",
        "outputId": "22d6869f-5d5f-4046-e483-1f29317e7df4"
      },
      "source": [
        "\n",
        "a=int(input(\"Enter a Number\"))\n",
        "for i in range(1,11):\n",
        " print(a,\"*\",i,\"is equal to \",a*i)"
      ],
      "execution_count": 6,
      "outputs": [
        {
          "output_type": "stream",
          "name": "stdout",
          "text": [
            "Enter a Number3\n",
            "3 * 1 is equal to  3\n",
            "3 * 2 is equal to  6\n",
            "3 * 3 is equal to  9\n",
            "3 * 4 is equal to  12\n",
            "3 * 5 is equal to  15\n",
            "3 * 6 is equal to  18\n",
            "3 * 7 is equal to  21\n",
            "3 * 8 is equal to  24\n",
            "3 * 9 is equal to  27\n",
            "3 * 10 is equal to  30\n"
          ]
        }
      ]
    }
  ]
}
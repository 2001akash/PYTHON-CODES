{
  "nbformat": 4,
  "nbformat_minor": 0,
  "metadata": {
    "colab": {
      "provenance": [],
      "authorship_tag": "ABX9TyM91mbyoFPe9zHiOchZ5hfW",
      "include_colab_link": true
    },
    "kernelspec": {
      "name": "python3",
      "display_name": "Python 3"
    },
    "language_info": {
      "name": "python"
    }
  },
  "cells": [
    {
      "cell_type": "markdown",
      "metadata": {
        "id": "view-in-github",
        "colab_type": "text"
      },
      "source": [
        "<a href=\"https://colab.research.google.com/github/2001akash/PYTHON-CODES/blob/main/Multiplication_table.ipynb\" target=\"_parent\"><img src=\"https://colab.research.google.com/assets/colab-badge.svg\" alt=\"Open In Colab\"/></a>"
      ]
    },
    {
      "cell_type": "code",
      "metadata": {
        "colab": {
          "base_uri": "https://localhost:8080/"
        },
        "id": "Qfg0N9UZPrCa",
        "outputId": "2c66bb01-df82-4af1-9398-41ac7e456523"
      },
      "source": [
        "\n",
        "a=int(input(\"Enter a Number\"))\n",
        "for i in range(1,11):\n",
        " print (a,\"*\",i,\"is equal to \",a*i)"
      ],
      "execution_count": null,
      "outputs": [
        {
          "output_type": "stream",
          "name": "stdout",
          "text": [
            "Enter a Number3\n",
            "3 * 1 is equal to  3\n",
            "3 * 2 is equal to  6\n",
            "3 * 3 is equal to  9\n",
            "3 * 4 is equal to  12\n",
            "3 * 5 is equal to  15\n",
            "3 * 6 is equal to  18\n",
            "3 * 7 is equal to  21\n",
            "3 * 8 is equal to  24\n",
            "3 * 9 is equal to  27\n",
            "3 * 10 is equal to  30\n"
          ]
        }
      ]
    }
  ]
}